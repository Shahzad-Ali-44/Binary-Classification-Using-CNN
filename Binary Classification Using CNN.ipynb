{
 "cells": [
  {
   "cell_type": "markdown",
   "id": "cdc3cb4c-1b91-4130-a539-0d0179cce68e",
   "metadata": {},
   "source": [
    "# Import necessary libraries"
   ]
  },
  {
   "cell_type": "code",
   "execution_count": 1,
   "id": "4b5f0681-4a64-4548-b59d-49e8b4241e6b",
   "metadata": {},
   "outputs": [],
   "source": [
    "from tensorflow.keras.preprocessing.image import ImageDataGenerator\n",
    "from tensorflow.keras.callbacks import EarlyStopping, ReduceLROnPlateau\n",
    "from tensorflow.keras.models import Sequential\n",
    "from tensorflow.keras.layers import (\n",
    "    Conv2D,\n",
    "    MaxPooling2D,\n",
    "    Flatten,\n",
    "    Dense,\n",
    "    Dropout,\n",
    "    BatchNormalization,\n",
    "    Input,\n",
    ")\n",
    "import numpy as np\n",
    "import matplotlib.pyplot as plt\n",
    "import random"
   ]
  },
  {
   "cell_type": "markdown",
   "id": "bf57664d-e5a6-4311-afb4-e73c6e0c464f",
   "metadata": {},
   "source": [
    "# Load Dataset"
   ]
  },
  {
   "cell_type": "markdown",
   "id": "5ef85b77-993a-46d0-89c6-617c59f9953d",
   "metadata": {},
   "source": [
    "### Load training and testing data from CSV files"
   ]
  },
  {
   "cell_type": "code",
   "execution_count": 2,
   "id": "8bc6109c-1e50-4385-a58c-1a4b77b0342f",
   "metadata": {},
   "outputs": [],
   "source": [
    "X_train = np.loadtxt('input.csv', delimiter=',')\n",
    "Y_train = np.loadtxt('labels.csv', delimiter=',')\n",
    "X_test = np.loadtxt('input_test.csv', delimiter=',')\n",
    "Y_test = np.loadtxt('labels_test.csv', delimiter=',')"
   ]
  },
  {
   "cell_type": "markdown",
   "id": "ab45c043-afaa-4642-981f-635f1e5403af",
   "metadata": {},
   "source": [
    "# Reshape the dataset to match the expected input shape for the model"
   ]
  },
  {
   "cell_type": "code",
   "execution_count": 3,
   "id": "a41adcc1-d24d-4888-9388-0c9e85570137",
   "metadata": {},
   "outputs": [],
   "source": [
    "X_train = X_train.reshape(len(X_train), 100, 100, 3) / 255.0\n",
    "Y_train = Y_train.reshape(len(Y_train), 1)\n",
    "X_test = X_test.reshape(len(X_test), 100, 100, 3) / 255.0\n",
    "Y_test = Y_test.reshape(len(Y_test), 1)"
   ]
  },
  {
   "cell_type": "markdown",
   "id": "7033904a-fdd4-43c0-b06b-4b3394d89498",
   "metadata": {},
   "source": [
    "# Data Augmentation"
   ]
  },
  {
   "cell_type": "code",
   "execution_count": 4,
   "id": "b0c969c1-7e8c-4163-a521-09a6e43637e1",
   "metadata": {},
   "outputs": [],
   "source": [
    "datagen = ImageDataGenerator(\n",
    "    rotation_range=20,\n",
    "    width_shift_range=0.2,\n",
    "    height_shift_range=0.2,\n",
    "    shear_range=0.2,\n",
    "    zoom_range=0.2,\n",
    "    horizontal_flip=True,\n",
    "    fill_mode=\"nearest\",\n",
    ")\n",
    "datagen.fit(X_train)"
   ]
  },
  {
   "cell_type": "markdown",
   "id": "17ff2064-fc09-4af4-b849-5254fdaac2bb",
   "metadata": {},
   "source": [
    "# Build the CNN Model"
   ]
  },
  {
   "cell_type": "code",
   "execution_count": 5,
   "id": "1ccc6ca2-5d2e-4658-a6e5-37eb03a7b11d",
   "metadata": {},
   "outputs": [],
   "source": [
    "model = Sequential(\n",
    "    [\n",
    "        Input(shape=(100, 100, 3)),\n",
    "        Conv2D(32, (3, 3), activation=\"relu\"),\n",
    "        BatchNormalization(),\n",
    "        MaxPooling2D((2, 2)),\n",
    "        Dropout(0.25),\n",
    "        \n",
    "        Conv2D(64, (3, 3), activation=\"relu\"),\n",
    "        BatchNormalization(),\n",
    "        MaxPooling2D((2, 2)),\n",
    "        Dropout(0.25),\n",
    "        \n",
    "        Conv2D(128, (3, 3), activation=\"relu\"),\n",
    "        BatchNormalization(),\n",
    "        MaxPooling2D((2, 2)),\n",
    "        Dropout(0.5),\n",
    "        \n",
    "        Flatten(),\n",
    "        Dense(128, activation=\"relu\"),\n",
    "        Dropout(0.5),\n",
    "        Dense(1, activation=\"sigmoid\"),\n",
    "    ]\n",
    ")"
   ]
  },
  {
   "cell_type": "markdown",
   "id": "8788fa5b-f906-4cc7-accd-942947365805",
   "metadata": {},
   "source": [
    "# Compile the model"
   ]
  },
  {
   "cell_type": "code",
   "execution_count": 7,
   "id": "4fed0936-7a01-4ff2-b9bd-01e279d6e6b1",
   "metadata": {},
   "outputs": [],
   "source": [
    "model.compile(\n",
    "    loss=\"binary_crossentropy\",\n",
    "    optimizer=\"adam\",\n",
    "    metrics=[\"accuracy\"],\n",
    ")"
   ]
  },
  {
   "cell_type": "markdown",
   "id": "d1544d42",
   "metadata": {},
   "source": [
    "# Callbacks for Optimization"
   ]
  },
  {
   "cell_type": "code",
   "execution_count": 9,
   "id": "1d6cf73d",
   "metadata": {},
   "outputs": [],
   "source": [
    "early_stopping = EarlyStopping(\n",
    "    monitor=\"val_loss\", patience=5, restore_best_weights=True\n",
    ")\n",
    "reduce_lr = ReduceLROnPlateau(monitor=\"val_loss\", factor=0.2, patience=3, verbose=1)"
   ]
  },
  {
   "cell_type": "markdown",
   "id": "d631f4bb-1e25-40b7-ab7f-79e7550f3c98",
   "metadata": {},
   "source": [
    "# Train the model"
   ]
  },
  {
   "cell_type": "code",
   "execution_count": 12,
   "id": "a3d9222a-0a5d-4e18-b6a3-02af207ac2fd",
   "metadata": {},
   "outputs": [
    {
     "name": "stdout",
     "output_type": "stream",
     "text": [
      "Epoch 1/20\n",
      "\u001b[1m32/32\u001b[0m \u001b[32m━━━━━━━━━━━━━━━━━━━━\u001b[0m\u001b[37m\u001b[0m \u001b[1m29s\u001b[0m 899ms/step - accuracy: 0.6422 - loss: 0.6188 - val_accuracy: 0.6350 - val_loss: 0.7328 - learning_rate: 2.0000e-04\n",
      "Epoch 2/20\n",
      "\u001b[1m32/32\u001b[0m \u001b[32m━━━━━━━━━━━━━━━━━━━━\u001b[0m\u001b[37m\u001b[0m \u001b[1m27s\u001b[0m 804ms/step - accuracy: 0.6453 - loss: 0.6175 - val_accuracy: 0.6525 - val_loss: 0.7204 - learning_rate: 2.0000e-04\n",
      "Epoch 3/20\n",
      "\u001b[1m32/32\u001b[0m \u001b[32m━━━━━━━━━━━━━━━━━━━━\u001b[0m\u001b[37m\u001b[0m \u001b[1m53s\u001b[0m 2s/step - accuracy: 0.6485 - loss: 0.6133 - val_accuracy: 0.6500 - val_loss: 0.6955 - learning_rate: 2.0000e-04\n",
      "Epoch 4/20\n",
      "\u001b[1m32/32\u001b[0m \u001b[32m━━━━━━━━━━━━━━━━━━━━\u001b[0m\u001b[37m\u001b[0m \u001b[1m36s\u001b[0m 1s/step - accuracy: 0.6558 - loss: 0.6206 - val_accuracy: 0.6500 - val_loss: 0.6919 - learning_rate: 2.0000e-04\n",
      "Epoch 5/20\n",
      "\u001b[1m32/32\u001b[0m \u001b[32m━━━━━━━━━━━━━━━━━━━━\u001b[0m\u001b[37m\u001b[0m \u001b[1m39s\u001b[0m 1s/step - accuracy: 0.6653 - loss: 0.6078 - val_accuracy: 0.6825 - val_loss: 0.6366 - learning_rate: 2.0000e-04\n",
      "Epoch 6/20\n",
      "\u001b[1m32/32\u001b[0m \u001b[32m━━━━━━━━━━━━━━━━━━━━\u001b[0m\u001b[37m\u001b[0m \u001b[1m44s\u001b[0m 1s/step - accuracy: 0.6656 - loss: 0.6060 - val_accuracy: 0.7100 - val_loss: 0.5884 - learning_rate: 2.0000e-04\n",
      "Epoch 7/20\n",
      "\u001b[1m32/32\u001b[0m \u001b[32m━━━━━━━━━━━━━━━━━━━━\u001b[0m\u001b[37m\u001b[0m \u001b[1m40s\u001b[0m 1s/step - accuracy: 0.6751 - loss: 0.6014 - val_accuracy: 0.7050 - val_loss: 0.6114 - learning_rate: 2.0000e-04\n",
      "Epoch 8/20\n",
      "\u001b[1m32/32\u001b[0m \u001b[32m━━━━━━━━━━━━━━━━━━━━\u001b[0m\u001b[37m\u001b[0m \u001b[1m37s\u001b[0m 1s/step - accuracy: 0.6882 - loss: 0.5900 - val_accuracy: 0.6925 - val_loss: 0.6055 - learning_rate: 2.0000e-04\n",
      "Epoch 9/20\n",
      "\u001b[1m32/32\u001b[0m \u001b[32m━━━━━━━━━━━━━━━━━━━━\u001b[0m\u001b[37m\u001b[0m \u001b[1m41s\u001b[0m 1s/step - accuracy: 0.6818 - loss: 0.5811 - val_accuracy: 0.7250 - val_loss: 0.5866 - learning_rate: 2.0000e-04\n",
      "Epoch 10/20\n",
      "\u001b[1m32/32\u001b[0m \u001b[32m━━━━━━━━━━━━━━━━━━━━\u001b[0m\u001b[37m\u001b[0m \u001b[1m32s\u001b[0m 989ms/step - accuracy: 0.6625 - loss: 0.5949 - val_accuracy: 0.7100 - val_loss: 0.6134 - learning_rate: 2.0000e-04\n",
      "Epoch 11/20\n",
      "\u001b[1m32/32\u001b[0m \u001b[32m━━━━━━━━━━━━━━━━━━━━\u001b[0m\u001b[37m\u001b[0m \u001b[1m36s\u001b[0m 1s/step - accuracy: 0.6766 - loss: 0.5919 - val_accuracy: 0.7200 - val_loss: 0.5960 - learning_rate: 2.0000e-04\n",
      "Epoch 12/20\n",
      "\u001b[1m32/32\u001b[0m \u001b[32m━━━━━━━━━━━━━━━━━━━━\u001b[0m\u001b[37m\u001b[0m \u001b[1m0s\u001b[0m 989ms/step - accuracy: 0.6857 - loss: 0.5905\n",
      "Epoch 12: ReduceLROnPlateau reducing learning rate to 4.0000001899898055e-05.\n",
      "\u001b[1m32/32\u001b[0m \u001b[32m━━━━━━━━━━━━━━━━━━━━\u001b[0m\u001b[37m\u001b[0m \u001b[1m34s\u001b[0m 1s/step - accuracy: 0.6856 - loss: 0.5906 - val_accuracy: 0.6850 - val_loss: 0.6186 - learning_rate: 2.0000e-04\n",
      "Epoch 13/20\n",
      "\u001b[1m32/32\u001b[0m \u001b[32m━━━━━━━━━━━━━━━━━━━━\u001b[0m\u001b[37m\u001b[0m \u001b[1m37s\u001b[0m 1s/step - accuracy: 0.6643 - loss: 0.6030 - val_accuracy: 0.7025 - val_loss: 0.5821 - learning_rate: 4.0000e-05\n",
      "Epoch 14/20\n",
      "\u001b[1m32/32\u001b[0m \u001b[32m━━━━━━━━━━━━━━━━━━━━\u001b[0m\u001b[37m\u001b[0m \u001b[1m36s\u001b[0m 1s/step - accuracy: 0.6849 - loss: 0.5845 - val_accuracy: 0.7050 - val_loss: 0.5764 - learning_rate: 4.0000e-05\n",
      "Epoch 15/20\n",
      "\u001b[1m32/32\u001b[0m \u001b[32m━━━━━━━━━━━━━━━━━━━━\u001b[0m\u001b[37m\u001b[0m \u001b[1m39s\u001b[0m 1s/step - accuracy: 0.6903 - loss: 0.5813 - val_accuracy: 0.6975 - val_loss: 0.5737 - learning_rate: 4.0000e-05\n",
      "Epoch 16/20\n",
      "\u001b[1m32/32\u001b[0m \u001b[32m━━━━━━━━━━━━━━━━━━━━\u001b[0m\u001b[37m\u001b[0m \u001b[1m35s\u001b[0m 1s/step - accuracy: 0.6907 - loss: 0.5781 - val_accuracy: 0.7175 - val_loss: 0.5719 - learning_rate: 4.0000e-05\n",
      "Epoch 17/20\n",
      "\u001b[1m32/32\u001b[0m \u001b[32m━━━━━━━━━━━━━━━━━━━━\u001b[0m\u001b[37m\u001b[0m \u001b[1m37s\u001b[0m 1s/step - accuracy: 0.7066 - loss: 0.5710 - val_accuracy: 0.7175 - val_loss: 0.5673 - learning_rate: 4.0000e-05\n",
      "Epoch 18/20\n",
      "\u001b[1m32/32\u001b[0m \u001b[32m━━━━━━━━━━━━━━━━━━━━\u001b[0m\u001b[37m\u001b[0m \u001b[1m28s\u001b[0m 802ms/step - accuracy: 0.6905 - loss: 0.5729 - val_accuracy: 0.6975 - val_loss: 0.5831 - learning_rate: 4.0000e-05\n",
      "Epoch 19/20\n",
      "\u001b[1m32/32\u001b[0m \u001b[32m━━━━━━━━━━━━━━━━━━━━\u001b[0m\u001b[37m\u001b[0m \u001b[1m24s\u001b[0m 728ms/step - accuracy: 0.7012 - loss: 0.5936 - val_accuracy: 0.7075 - val_loss: 0.5653 - learning_rate: 4.0000e-05\n",
      "Epoch 20/20\n",
      "\u001b[1m32/32\u001b[0m \u001b[32m━━━━━━━━━━━━━━━━━━━━\u001b[0m\u001b[37m\u001b[0m \u001b[1m30s\u001b[0m 906ms/step - accuracy: 0.6897 - loss: 0.5827 - val_accuracy: 0.7125 - val_loss: 0.5742 - learning_rate: 4.0000e-05\n"
     ]
    }
   ],
   "source": [
    "history = model.fit(\n",
    "    datagen.flow(X_train, Y_train, batch_size=64),\n",
    "    epochs=20,\n",
    "    validation_data=(X_test, Y_test),\n",
    "    callbacks=[early_stopping, reduce_lr],\n",
    "    verbose=1,\n",
    ")"
   ]
  },
  {
   "cell_type": "markdown",
   "id": "b7dc4bcc-1236-41c7-8c09-f3f9322d7f38",
   "metadata": {},
   "source": [
    "# Evaluate the model on test data"
   ]
  },
  {
   "cell_type": "code",
   "execution_count": 13,
   "id": "f1f2b7ec-c35b-4d6a-9b2d-cf4783cbddd1",
   "metadata": {},
   "outputs": [
    {
     "name": "stdout",
     "output_type": "stream",
     "text": [
      "\u001b[1m13/13\u001b[0m \u001b[32m━━━━━━━━━━━━━━━━━━━━\u001b[0m\u001b[37m\u001b[0m \u001b[1m1s\u001b[0m 66ms/step - accuracy: 0.7478 - loss: 0.4973\n",
      "Test Accuracy: 70.75%\n"
     ]
    }
   ],
   "source": [
    "evaluation_results = model.evaluate(X_test, Y_test)\n",
    "print(\"Test Accuracy: {:.2f}%\".format(evaluation_results[1] * 100))"
   ]
  },
  {
   "cell_type": "markdown",
   "id": "9daaf592-fb98-4e17-a8c4-c25d90d50377",
   "metadata": {},
   "source": [
    "# Making predictions"
   ]
  },
  {
   "cell_type": "markdown",
   "id": "49465917-0382-4ad6-8bd7-cb9209d14666",
   "metadata": {},
   "source": [
    "### Visualize a random test image"
   ]
  },
  {
   "cell_type": "code",
   "execution_count": 29,
   "id": "3dea0c25-6cb0-49b6-8483-c1b9c9351cee",
   "metadata": {},
   "outputs": [
    {
     "data": {
      "image/png": "[encoded data removed]",
      "text/plain": [
       "<Figure size 640x480 with 1 Axes>"
      ]
     },
     "metadata": {},
     "output_type": "display_data"
    }
   ],
   "source": [
    "idx2 = random.randint(0, len(Y_test) - 1)\n",
    "plt.imshow(X_test[idx2, :])\n",
    "plt.title(\"Random Test Image\")\n",
    "plt.axis('off')\n",
    "plt.show()\n"
   ]
  },
  {
   "cell_type": "markdown",
   "id": "e9a3a048-ccf3-48ae-8d72-63e81751ec2f",
   "metadata": {},
   "source": [
    "# Predict the class of the random test image"
   ]
  },
  {
   "cell_type": "code",
   "execution_count": 30,
   "id": "ed589f4c-fb66-45eb-bb67-1ae81787f79e",
   "metadata": {},
   "outputs": [
    {
     "name": "stdout",
     "output_type": "stream",
     "text": [
      "\u001b[1m1/1\u001b[0m \u001b[32m━━━━━━━━━━━━━━━━━━━━\u001b[0m\u001b[37m\u001b[0m \u001b[1m0s\u001b[0m 201ms/step\n",
      "[[0.8331741]]\n"
     ]
    }
   ],
   "source": [
    "y_pred = model.predict(X_test[idx2, :].reshape(1, 100, 100, 3))\n",
    "print(y_pred)"
   ]
  },
  {
   "cell_type": "markdown",
   "id": "3f62f935-6152-490a-b6f1-dd92b115b96a",
   "metadata": {},
   "source": [
    "# Determine the predicted class"
   ]
  },
  {
   "cell_type": "code",
   "execution_count": 31,
   "id": "78fcc5aa-1fe9-436c-a0cc-c517a3c557b8",
   "metadata": {},
   "outputs": [
    {
     "name": "stdout",
     "output_type": "stream",
     "text": [
      "Our model says it is a: cat\n"
     ]
    }
   ],
   "source": [
    "if y_pred >= 0.5:\n",
    "    pred= 'cat'\n",
    "else:\n",
    "    pred= 'dog'\n",
    "print(\"Our model says it is a:\", pred)"
   ]
  }
 ],
 "metadata": {
  "kernelspec": {
   "display_name": "Python 3",
   "language": "python",
   "name": "python3"
  },
  "language_info": {
   "codemirror_mode": {
    "name": "ipython",
    "version": 3
   },
   "file_extension": ".py",
   "mimetype": "text/x-python",
   "name": "python",
   "nbconvert_exporter": "python",
   "pygments_lexer": "ipython3",
   "version": "3.12.5"
  }
 },
 "nbformat": 4,
 "nbformat_minor": 5
}
